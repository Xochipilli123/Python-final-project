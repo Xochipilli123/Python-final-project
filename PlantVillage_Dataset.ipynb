
!git clone https://github.com/spMohanty/PlantVillage-Dataset
!cd PlantVillage-Dataset

"""This is kind of embarressing but I had trouble acutally adding the PlantVillage-Dataset to my repo,
so this is what I did to use the data. Obviously, it can only be used if you have git installed"""
